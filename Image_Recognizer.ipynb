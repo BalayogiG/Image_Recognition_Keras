{
 "cells": [
  {
   "cell_type": "markdown",
   "metadata": {},
   "source": [
    "# Image Classifier using Keras"
   ]
  },
  {
   "cell_type": "code",
   "execution_count": 9,
   "metadata": {},
   "outputs": [],
   "source": [
    "# importing the libraries\n",
    "import keras\n",
    "from keras.datasets import cifar10\n",
    "from keras.models import Sequential\n",
    "from keras.layers import Dense, Dropout, MaxPooling2D, Flatten, Conv2D\n",
    "from pathlib import Path"
   ]
  },
  {
   "cell_type": "code",
   "execution_count": 10,
   "metadata": {},
   "outputs": [],
   "source": [
    "# loading dataset\n",
    "(x_train, y_train),(x_test, y_test)=cifar10.load_data()\n"
   ]
  },
  {
   "cell_type": "code",
   "execution_count": 11,
   "metadata": {},
   "outputs": [],
   "source": [
    "# normalize the data\n",
    "x_train = x_train.astype(\"float32\") \n",
    "x_test = x_test.astype(\"float32\")\n",
    "x_train /= 255\n",
    "x_test /= 255"
   ]
  },
  {
   "cell_type": "code",
   "execution_count": 12,
   "metadata": {},
   "outputs": [],
   "source": [
    "# converet the image to the binary class matrix\n",
    "y_train =  keras.utils.to_categorical(y_train, 10)\n",
    "y_test = keras.utils.to_categorical(y_test, 10)"
   ]
  },
  {
   "cell_type": "code",
   "execution_count": 25,
   "metadata": {},
   "outputs": [],
   "source": [
    "# create a model and add layers\n",
    "model = Sequential()\n",
    "\n",
    "model.add(Conv2D(32,(3,3), padding = \"same\", activation = \"relu\", input_shape=(32,32,3)))\n",
    "model.add(Conv2D(32,(3,3), activation = \"relu\"))\n",
    "model.add(MaxPooling2D(pool_size=(2,2)))\n",
    "model.add(Dropout(0.25))\n",
    "\n",
    "model.add(Conv2D(64,(3,3), padding = \"same\", activation = \"relu\"))\n",
    "model.add(Conv2D(64,(3,3), activation = \"relu\"))\n",
    "model.add(MaxPooling2D(pool_size=(2,2)))\n",
    "model.add(Dropout(0.25))\n",
    "\n",
    "model.add(Flatten())\n",
    "model.add(Dense(512, activation = \"relu\"))\n",
    "model.add(Dropout(0.5))\n",
    "model.add(Dense(10, activation = \"softmax\"))\n",
    "\n"
   ]
  },
  {
   "cell_type": "code",
   "execution_count": 26,
   "metadata": {},
   "outputs": [
    {
     "name": "stdout",
     "output_type": "stream",
     "text": [
      "_________________________________________________________________\n",
      "Layer (type)                 Output Shape              Param #   \n",
      "=================================================================\n",
      "conv2d_27 (Conv2D)           (None, 32, 32, 32)        896       \n",
      "_________________________________________________________________\n",
      "conv2d_28 (Conv2D)           (None, 30, 30, 32)        9248      \n",
      "_________________________________________________________________\n",
      "max_pooling2d_9 (MaxPooling2 (None, 15, 15, 32)        0         \n",
      "_________________________________________________________________\n",
      "dropout_10 (Dropout)         (None, 15, 15, 32)        0         \n",
      "_________________________________________________________________\n",
      "conv2d_29 (Conv2D)           (None, 15, 15, 64)        18496     \n",
      "_________________________________________________________________\n",
      "conv2d_30 (Conv2D)           (None, 13, 13, 64)        36928     \n",
      "_________________________________________________________________\n",
      "max_pooling2d_10 (MaxPooling (None, 6, 6, 64)          0         \n",
      "_________________________________________________________________\n",
      "dropout_11 (Dropout)         (None, 6, 6, 64)          0         \n",
      "_________________________________________________________________\n",
      "flatten_7 (Flatten)          (None, 2304)              0         \n",
      "_________________________________________________________________\n",
      "dense_15 (Dense)             (None, 512)               1180160   \n",
      "_________________________________________________________________\n",
      "dropout_12 (Dropout)         (None, 512)               0         \n",
      "_________________________________________________________________\n",
      "dense_16 (Dense)             (None, 10)                5130      \n",
      "=================================================================\n",
      "Total params: 1,250,858\n",
      "Trainable params: 1,250,858\n",
      "Non-trainable params: 0\n",
      "_________________________________________________________________\n"
     ]
    }
   ],
   "source": [
    "# printing the model summary\n",
    "model.summary()"
   ]
  },
  {
   "cell_type": "code",
   "execution_count": 29,
   "metadata": {},
   "outputs": [],
   "source": [
    "#compiling the model\n",
    "model.compile(loss='categorical_crossentropy', optimizer='adam', metrics=['accuracy'])\n"
   ]
  },
  {
   "cell_type": "code",
   "execution_count": 31,
   "metadata": {},
   "outputs": [
    {
     "name": "stdout",
     "output_type": "stream",
     "text": [
      "Train on 50000 samples, validate on 10000 samples\n",
      "Epoch 1/30\n",
      "50000/50000 [==============================] - 376s 8ms/step - loss: 1.5279 - acc: 0.4430 - val_loss: 1.1997 - val_acc: 0.5764\n",
      "Epoch 2/30\n",
      "50000/50000 [==============================] - 292s 6ms/step - loss: 1.1767 - acc: 0.5799 - val_loss: 0.9976 - val_acc: 0.6488\n",
      "Epoch 3/30\n",
      "50000/50000 [==============================] - 295s 6ms/step - loss: 1.0297 - acc: 0.6351 - val_loss: 0.8888 - val_acc: 0.6880\n",
      "Epoch 4/30\n",
      "50000/50000 [==============================] - 291s 6ms/step - loss: 0.9373 - acc: 0.6690 - val_loss: 0.8374 - val_acc: 0.7101\n",
      "Epoch 5/30\n",
      "50000/50000 [==============================] - 296s 6ms/step - loss: 0.8682 - acc: 0.6958 - val_loss: 0.7856 - val_acc: 0.7307\n",
      "Epoch 6/30\n",
      "50000/50000 [==============================] - 294s 6ms/step - loss: 0.8260 - acc: 0.7087 - val_loss: 0.7579 - val_acc: 0.7323\n",
      "Epoch 7/30\n",
      "50000/50000 [==============================] - 296s 6ms/step - loss: 0.7841 - acc: 0.7228 - val_loss: 0.7299 - val_acc: 0.7468\n",
      "Epoch 8/30\n",
      "50000/50000 [==============================] - 293s 6ms/step - loss: 0.7614 - acc: 0.7328 - val_loss: 0.7359 - val_acc: 0.7436\n",
      "Epoch 9/30\n",
      "50000/50000 [==============================] - 292s 6ms/step - loss: 0.7394 - acc: 0.7404 - val_loss: 0.6980 - val_acc: 0.7581\n",
      "Epoch 10/30\n",
      "50000/50000 [==============================] - 291s 6ms/step - loss: 0.7138 - acc: 0.7503 - val_loss: 0.6915 - val_acc: 0.7558\n",
      "Epoch 11/30\n",
      "50000/50000 [==============================] - 293s 6ms/step - loss: 0.7011 - acc: 0.7543 - val_loss: 0.7148 - val_acc: 0.7588\n",
      "Epoch 12/30\n",
      "50000/50000 [==============================] - 292s 6ms/step - loss: 0.6790 - acc: 0.7622 - val_loss: 0.6644 - val_acc: 0.7723\n",
      "Epoch 13/30\n",
      "50000/50000 [==============================] - 292s 6ms/step - loss: 0.6604 - acc: 0.7682 - val_loss: 0.6761 - val_acc: 0.7680\n",
      "Epoch 14/30\n",
      "50000/50000 [==============================] - 293s 6ms/step - loss: 0.6404 - acc: 0.7734 - val_loss: 0.6663 - val_acc: 0.7737\n",
      "Epoch 15/30\n",
      "50000/50000 [==============================] - 295s 6ms/step - loss: 0.6311 - acc: 0.7770 - val_loss: 0.6509 - val_acc: 0.7789\n",
      "Epoch 16/30\n",
      "50000/50000 [==============================] - 293s 6ms/step - loss: 0.6172 - acc: 0.7833 - val_loss: 0.6763 - val_acc: 0.7686\n",
      "Epoch 17/30\n",
      "50000/50000 [==============================] - 294s 6ms/step - loss: 0.6064 - acc: 0.7871 - val_loss: 0.6638 - val_acc: 0.7729\n",
      "Epoch 18/30\n",
      "50000/50000 [==============================] - 294s 6ms/step - loss: 0.6018 - acc: 0.7898 - val_loss: 0.6440 - val_acc: 0.7779\n",
      "Epoch 19/30\n",
      "50000/50000 [==============================] - 293s 6ms/step - loss: 0.5809 - acc: 0.7951 - val_loss: 0.6668 - val_acc: 0.7770\n",
      "Epoch 20/30\n",
      "50000/50000 [==============================] - 293s 6ms/step - loss: 0.5724 - acc: 0.7978 - val_loss: 0.6564 - val_acc: 0.7780\n",
      "Epoch 21/30\n",
      "50000/50000 [==============================] - 306s 6ms/step - loss: 0.5724 - acc: 0.8002 - val_loss: 0.6689 - val_acc: 0.7769\n",
      "Epoch 22/30\n",
      "50000/50000 [==============================] - 294s 6ms/step - loss: 0.5590 - acc: 0.8036 - val_loss: 0.6508 - val_acc: 0.7841\n",
      "Epoch 23/30\n",
      "50000/50000 [==============================] - 294s 6ms/step - loss: 0.5454 - acc: 0.8087 - val_loss: 0.6942 - val_acc: 0.7690\n",
      "Epoch 24/30\n",
      "50000/50000 [==============================] - 292s 6ms/step - loss: 0.5407 - acc: 0.8100 - val_loss: 0.7064 - val_acc: 0.7762\n",
      "Epoch 25/30\n",
      "50000/50000 [==============================] - 293s 6ms/step - loss: 0.5281 - acc: 0.8155 - val_loss: 0.6766 - val_acc: 0.7795\n",
      "Epoch 26/30\n",
      "50000/50000 [==============================] - 293s 6ms/step - loss: 0.5258 - acc: 0.8143 - val_loss: 0.6463 - val_acc: 0.7820\n",
      "Epoch 27/30\n",
      "50000/50000 [==============================] - 292s 6ms/step - loss: 0.5179 - acc: 0.8199 - val_loss: 0.6767 - val_acc: 0.7786\n",
      "Epoch 28/30\n",
      "50000/50000 [==============================] - 298s 6ms/step - loss: 0.5097 - acc: 0.8186 - val_loss: 0.7008 - val_acc: 0.7721\n",
      "Epoch 29/30\n",
      "50000/50000 [==============================] - 292s 6ms/step - loss: 0.5096 - acc: 0.8207 - val_loss: 0.6613 - val_acc: 0.7792\n",
      "Epoch 30/30\n",
      "50000/50000 [==============================] - 292s 6ms/step - loss: 0.4973 - acc: 0.8248 - val_loss: 0.6625 - val_acc: 0.7863\n"
     ]
    },
    {
     "data": {
      "text/plain": [
       "<keras.callbacks.History at 0x255acc07048>"
      ]
     },
     "execution_count": 31,
     "metadata": {},
     "output_type": "execute_result"
    }
   ],
   "source": [
    "# Traning the model\n",
    "model.fit(x_train,y_train, batch_size=32, epochs=30, validation_data=(x_test,y_test), shuffle=True)"
   ]
  },
  {
   "cell_type": "code",
   "execution_count": 34,
   "metadata": {},
   "outputs": [
    {
     "data": {
      "text/plain": [
       "4345"
      ]
     },
     "execution_count": 34,
     "metadata": {},
     "output_type": "execute_result"
    }
   ],
   "source": [
    "#saving the neural network structure\n",
    "model_structure= model.to_json()\n",
    "f = Path(\"model_structure.json\")\n",
    "f.write_text(model_structure)"
   ]
  },
  {
   "cell_type": "code",
   "execution_count": 36,
   "metadata": {},
   "outputs": [],
   "source": [
    "# saving the trained weights\n",
    "model.save_weights(\"model_weights.h5\")"
   ]
  }
 ],
 "metadata": {
  "kernelspec": {
   "display_name": "Python 3",
   "language": "python",
   "name": "python3"
  },
  "language_info": {
   "codemirror_mode": {
    "name": "ipython",
    "version": 3
   },
   "file_extension": ".py",
   "mimetype": "text/x-python",
   "name": "python",
   "nbconvert_exporter": "python",
   "pygments_lexer": "ipython3",
   "version": "3.6.5"
  }
 },
 "nbformat": 4,
 "nbformat_minor": 2
}
